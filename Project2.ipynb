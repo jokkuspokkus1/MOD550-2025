{
 "cells": [
  {
   "cell_type": "code",
   "execution_count": 1,
   "id": "176f4349",
   "metadata": {},
   "outputs": [],
   "source": [
    "import tensorflow as tf\n",
    "import numpy as np\n",
    "import pandas as pd\n"
   ]
  },
  {
   "cell_type": "code",
   "execution_count": 2,
   "id": "18c63c79",
   "metadata": {},
   "outputs": [],
   "source": [
    "from Data_aqu import dataaquisition #Importing my own modules data aquisition and data model\n",
    "from Data_Model import DataModel \n"
   ]
  },
  {
   "cell_type": "markdown",
   "id": "ad9bbe15",
   "metadata": {},
   "source": [
    "**Task 2.1**"
   ]
  },
  {
   "cell_type": "code",
   "execution_count": 3,
   "id": "8ad928e5",
   "metadata": {},
   "outputs": [
    {
     "data": {
      "text/html": [
       "<div>\n",
       "<style scoped>\n",
       "    .dataframe tbody tr th:only-of-type {\n",
       "        vertical-align: middle;\n",
       "    }\n",
       "\n",
       "    .dataframe tbody tr th {\n",
       "        vertical-align: top;\n",
       "    }\n",
       "\n",
       "    .dataframe thead th {\n",
       "        text-align: right;\n",
       "    }\n",
       "</style>\n",
       "<table border=\"1\" class=\"dataframe\">\n",
       "  <thead>\n",
       "    <tr style=\"text-align: right;\">\n",
       "      <th></th>\n",
       "      <th>Pump_ID</th>\n",
       "      <th>Temperature</th>\n",
       "      <th>Vibration</th>\n",
       "      <th>Pressure</th>\n",
       "      <th>Flow_Rate</th>\n",
       "      <th>RPM</th>\n",
       "      <th>Operational_Hours</th>\n",
       "      <th>Maintenance_Flag</th>\n",
       "    </tr>\n",
       "  </thead>\n",
       "  <tbody>\n",
       "    <tr>\n",
       "      <th>0</th>\n",
       "      <td>2</td>\n",
       "      <td>127.508350</td>\n",
       "      <td>2.369397</td>\n",
       "      <td>136.021029</td>\n",
       "      <td>6.501492</td>\n",
       "      <td>1444.191922</td>\n",
       "      <td>3966.793672</td>\n",
       "      <td>1</td>\n",
       "    </tr>\n",
       "    <tr>\n",
       "      <th>1</th>\n",
       "      <td>4</td>\n",
       "      <td>88.975185</td>\n",
       "      <td>4.541126</td>\n",
       "      <td>147.516973</td>\n",
       "      <td>7.001516</td>\n",
       "      <td>1004.802496</td>\n",
       "      <td>3673.288933</td>\n",
       "      <td>0</td>\n",
       "    </tr>\n",
       "    <tr>\n",
       "      <th>2</th>\n",
       "      <td>3</td>\n",
       "      <td>61.832325</td>\n",
       "      <td>2.542112</td>\n",
       "      <td>220.858577</td>\n",
       "      <td>8.824368</td>\n",
       "      <td>2597.662712</td>\n",
       "      <td>5489.061016</td>\n",
       "      <td>1</td>\n",
       "    </tr>\n",
       "    <tr>\n",
       "      <th>3</th>\n",
       "      <td>3</td>\n",
       "      <td>106.250344</td>\n",
       "      <td>2.834452</td>\n",
       "      <td>145.817091</td>\n",
       "      <td>16.283512</td>\n",
       "      <td>2280.926281</td>\n",
       "      <td>3134.783015</td>\n",
       "      <td>0</td>\n",
       "    </tr>\n",
       "    <tr>\n",
       "      <th>4</th>\n",
       "      <td>2</td>\n",
       "      <td>84.815865</td>\n",
       "      <td>3.119709</td>\n",
       "      <td>235.476221</td>\n",
       "      <td>8.385183</td>\n",
       "      <td>2594.131667</td>\n",
       "      <td>761.533173</td>\n",
       "      <td>1</td>\n",
       "    </tr>\n",
       "  </tbody>\n",
       "</table>\n",
       "</div>"
      ],
      "text/plain": [
       "   Pump_ID  Temperature  Vibration    Pressure  Flow_Rate          RPM  \\\n",
       "0        2   127.508350   2.369397  136.021029   6.501492  1444.191922   \n",
       "1        4    88.975185   4.541126  147.516973   7.001516  1004.802496   \n",
       "2        3    61.832325   2.542112  220.858577   8.824368  2597.662712   \n",
       "3        3   106.250344   2.834452  145.817091  16.283512  2280.926281   \n",
       "4        2    84.815865   3.119709  235.476221   8.385183  2594.131667   \n",
       "\n",
       "   Operational_Hours  Maintenance_Flag  \n",
       "0        3966.793672                 1  \n",
       "1        3673.288933                 0  \n",
       "2        5489.061016                 1  \n",
       "3        3134.783015                 0  \n",
       "4         761.533173                 1  "
      ]
     },
     "execution_count": 3,
     "metadata": {},
     "output_type": "execute_result"
    }
   ],
   "source": [
    "daq=dataaquisition(\"Large_Industrial_Pump_Maintenance_Dataset.csv\")\n",
    "df=daq.getdata()\n",
    "df.head()"
   ]
  },
  {
   "cell_type": "markdown",
   "id": "ffa53997",
   "metadata": {},
   "source": [
    "**Task 2.2**"
   ]
  },
  {
   "cell_type": "code",
   "execution_count": 4,
   "id": "3498f98b",
   "metadata": {},
   "outputs": [
    {
     "name": "stdout",
     "output_type": "stream",
     "text": [
      "[-2.24486816e-04  2.73830264e-03 -4.32555054e-05  7.72890362e-04\n",
      " -7.48810679e-06 -5.39175473e-07] 0.5324875371308669\n"
     ]
    }
   ],
   "source": [
    "dm=DataModel(df)\n",
    "coefs, intercept = dm.linreg()\n",
    "print(coefs, intercept)"
   ]
  },
  {
   "cell_type": "markdown",
   "id": "e3be795c",
   "metadata": {},
   "source": [
    "**Task 2.3**"
   ]
  },
  {
   "cell_type": "code",
   "execution_count": 5,
   "id": "304b46ae",
   "metadata": {},
   "outputs": [
    {
     "name": "stdout",
     "output_type": "stream",
     "text": [
      "       Pump_ID  Temperature  Vibration    Pressure  Flow_Rate          RPM  \\\n",
      "0            2   127.508350   2.369397  136.021029   6.501492  1444.191922   \n",
      "1            4    88.975185   4.541126  147.516973   7.001516  1004.802496   \n",
      "2            3    61.832325   2.542112  220.858577   8.824368  2597.662712   \n",
      "3            3   106.250344   2.834452  145.817091  16.283512  2280.926281   \n",
      "4            2    84.815865   3.119709  235.476221   8.385183  2594.131667   \n",
      "...        ...          ...        ...         ...        ...          ...   \n",
      "13995        2    96.485432   1.694359  295.987814  17.388017  2799.102527   \n",
      "13996        3    89.151405   2.854835  134.605887  16.152293  2933.017496   \n",
      "13997        1    87.680865   2.161954  192.132675   6.461307  2550.638313   \n",
      "13998        1   136.939051   4.387347  101.043330  18.146037  1322.979453   \n",
      "13999        1    70.200411   2.777325  112.966028  17.868443  1192.384595   \n",
      "\n",
      "       Operational_Hours  Maintenance_Flag  \n",
      "0            3966.793672                 1  \n",
      "1            3673.288933                 0  \n",
      "2            5489.061016                 1  \n",
      "3            3134.783015                 0  \n",
      "4             761.533173                 1  \n",
      "...                  ...               ...  \n",
      "13995        6969.404865                 0  \n",
      "13996        3551.255368                 0  \n",
      "13997        7079.134154                 0  \n",
      "13998        5124.337282                 0  \n",
      "13999        1331.414556                 0  \n",
      "\n",
      "[14000 rows x 8 columns]        Pump_ID  Temperature  Vibration    Pressure  Flow_Rate          RPM  \\\n",
      "14000        1   101.994784   0.597230  289.842754   1.559384  2125.860638   \n",
      "14001        1   108.437843   3.240420  132.628623   5.182534  1892.084812   \n",
      "14002        5    78.838382   2.497095  199.782892   3.447384  2857.639549   \n",
      "14003        1    53.884565   4.893228  239.477928   4.159350  1565.981663   \n",
      "14004        3    72.867888   1.371411  149.346469  11.846344  2567.166217   \n",
      "...        ...          ...        ...         ...        ...          ...   \n",
      "16995        1    50.769754   3.720104  226.078670  12.311469  2908.849343   \n",
      "16996        1    98.637122   0.890470  133.906111   2.837671  2128.550864   \n",
      "16997        5   100.641101   0.318597  202.290779  19.218745  1137.201472   \n",
      "16998        2   131.502257   2.925969  217.118842   4.305604  1444.130595   \n",
      "16999        1    57.560102   1.072474  236.051665  16.683719  2099.372556   \n",
      "\n",
      "       Operational_Hours  Maintenance_Flag  \n",
      "14000        5767.740678                 0  \n",
      "14001        3671.884443                 1  \n",
      "14002        1203.045598                 0  \n",
      "14003        6692.629078                 0  \n",
      "14004        3844.830366                 1  \n",
      "...                  ...               ...  \n",
      "16995        4536.737277                 0  \n",
      "16996        3365.329762                 0  \n",
      "16997        8958.439938                 0  \n",
      "16998         981.940329                 0  \n",
      "16999        4387.490500                 0  \n",
      "\n",
      "[3000 rows x 8 columns]        Pump_ID  Temperature  Vibration    Pressure  Flow_Rate          RPM  \\\n",
      "17000        5   122.118199   1.153065  150.237594  17.327565  1306.176732   \n",
      "17001        3    99.479413   2.883922  166.845910   6.515599  1700.422794   \n",
      "17002        2   134.283134   3.663775  215.582880   7.865603  2841.215818   \n",
      "17003        5    88.783547   3.653391  220.620471  15.944525  2285.981496   \n",
      "17004        3    56.319798   2.577057  122.037744  18.979561  2225.936868   \n",
      "...        ...          ...        ...         ...        ...          ...   \n",
      "19995        5   133.824387   2.193536  162.072728   6.272785  1939.452036   \n",
      "19996        1   100.976892   4.906084  109.160420  10.000945  2267.788691   \n",
      "19997        3   109.563715   0.769374  180.743971  18.706712  2758.781582   \n",
      "19998        3   116.730910   3.279518  289.369874  14.570612  1683.361885   \n",
      "19999        1   112.119704   2.662803  217.675584  15.373061  2160.816062   \n",
      "\n",
      "       Operational_Hours  Maintenance_Flag  \n",
      "17000        2814.716780                 0  \n",
      "17001        7682.230119                 1  \n",
      "17002         802.226609                 0  \n",
      "17003        6075.839799                 0  \n",
      "17004        6958.195793                 0  \n",
      "...                  ...               ...  \n",
      "19995        4327.831926                 1  \n",
      "19996        7474.000467                 1  \n",
      "19997        8935.787395                 1  \n",
      "19998        4576.992294                 0  \n",
      "19999        1245.023172                 1  \n",
      "\n",
      "[3000 rows x 8 columns]\n"
     ]
    }
   ],
   "source": [
    "splitdatafunc=dm.split_data()\n",
    "train_size, validation_size, test_size = splitdatafunc\n",
    "print(train_size, validation_size, test_size)\n",
    "\n",
    "\n",
    "\n",
    "\n",
    " "
   ]
  },
  {
   "cell_type": "markdown",
   "id": "7141b23f",
   "metadata": {},
   "source": [
    "**Task 2.4**"
   ]
  },
  {
   "cell_type": "code",
   "execution_count": 6,
   "id": "d27b7c86",
   "metadata": {},
   "outputs": [
    {
     "name": "stdout",
     "output_type": "stream",
     "text": [
      "Mean Square Error: 0.24989421096174325\n"
     ]
    }
   ],
   "source": [
    "#this is done in my \"Data_Model.py\" file\n",
    "y_pred = dm.model.predict(dm.X)\n",
    "mse = dm.MSE(dm.Y, y_pred)\n",
    "print(\"Mean Square Error:\", mse)"
   ]
  },
  {
   "cell_type": "markdown",
   "id": "54502699",
   "metadata": {},
   "source": [
    "**Task 2.5**"
   ]
  },
  {
   "cell_type": "code",
   "execution_count": 7,
   "id": "cff65f12",
   "metadata": {},
   "outputs": [],
   "source": [
    "#this is done in my \"Data_Model.py\" file aswell"
   ]
  },
  {
   "cell_type": "markdown",
   "id": "c9977874",
   "metadata": {},
   "source": [
    "**Task 2.6**"
   ]
  },
  {
   "cell_type": "code",
   "execution_count": 8,
   "id": "3caa6d16",
   "metadata": {},
   "outputs": [
    {
     "name": "stdout",
     "output_type": "stream",
     "text": [
      "K-Means Labels: 0        2\n",
      "1        2\n",
      "2        2\n",
      "3        0\n",
      "4        0\n",
      "        ..\n",
      "19995    2\n",
      "19996    1\n",
      "19997    1\n",
      "19998    2\n",
      "19999    0\n",
      "Name: Cluster, Length: 20000, dtype: int32\n",
      "K-Means Centers: [[1.00446596e+02 2.52667640e+00 2.00484147e+02 1.03167353e+01\n",
      "  1.99725375e+03 1.73481047e+03]\n",
      " [1.00114730e+02 2.54754325e+00 2.01109649e+02 1.02396637e+01\n",
      "  2.01366274e+03 8.36019819e+03]\n",
      " [1.00550456e+02 2.50947509e+00 1.99554313e+02 1.01872156e+01\n",
      "  2.00606386e+03 5.04811327e+03]]\n",
      "[0 1 2]\n",
      "(3, 6)\n"
     ]
    }
   ],
   "source": [
    "#done in the Data_Model file, but here I am just visualizing/testing for my own sake.\n",
    "labels, centers = dm.k_means(n_clusters=3)\n",
    "print(\"K-Means Labels:\", labels)\n",
    "print(\"K-Means Centers:\", centers)\n",
    "print(np.unique(labels))\n",
    "print(centers.shape)\n"
   ]
  },
  {
   "cell_type": "markdown",
   "id": "d1ecfc7c",
   "metadata": {},
   "source": [
    "**Task 2.7**"
   ]
  },
  {
   "cell_type": "code",
   "execution_count": 9,
   "id": "c53dd171",
   "metadata": {},
   "outputs": [],
   "source": [
    "#this is done in task 2.2 in this notebook"
   ]
  },
  {
   "cell_type": "markdown",
   "id": "9acbcd26",
   "metadata": {},
   "source": [
    "**Task 2.8**"
   ]
  },
  {
   "cell_type": "code",
   "execution_count": 10,
   "id": "ee98d573",
   "metadata": {},
   "outputs": [
    {
     "name": "stdout",
     "output_type": "stream",
     "text": [
      "Validation Predictions: [0.4825353  0.50507746 0.49586377 ... 0.51121408 0.49841392 0.51028666]\n",
      "Validation MSE: 0.25022820294046433\n"
     ]
    }
   ],
   "source": [
    "train_data, validation_data, test_data = dm.split_data()\n",
    "\n",
    "train_x = train_data.drop(columns=[\"Maintenance_Flag\", \"Pump_ID\"])\n",
    "train_y = train_data[\"Maintenance_Flag\"]\n",
    "dm.model.fit(train_x, train_y)\n",
    "\n",
    "validation_x = validation_data.drop(columns=[\"Maintenance_Flag\", \"Pump_ID\"])\n",
    "validation_y = validation_data[\"Maintenance_Flag\"]\n",
    "validation_pred = dm.model.predict(validation_x)\n",
    "print(\"Validation Predictions:\", validation_pred)\n",
    "\n",
    "validation_mse = dm.MSE(validation_y, validation_pred)\n",
    "print(\"Validation MSE:\", validation_mse)\n",
    "\n",
    "\n",
    "\n",
    "\n"
   ]
  },
  {
   "cell_type": "markdown",
   "id": "4f048dda",
   "metadata": {},
   "source": [
    "**Task 2.10(discussion)**"
   ]
  },
  {
   "cell_type": "markdown",
   "id": "2b7bb991",
   "metadata": {},
   "source": [
    "Testing my Datamodel with another dataset found on kaggle: https://www.kaggle.com/datasets/nphantawee/pump-sensor-data/code/discussion\n",
    "\n",
    "I had to make some major modifications on my DataModel class as it could not handle NaN's , and i had  to convert string to meaningfull integers."
   ]
  },
  {
   "cell_type": "code",
   "execution_count": 11,
   "id": "e4cd8b66",
   "metadata": {},
   "outputs": [
    {
     "name": "stdout",
     "output_type": "stream",
     "text": [
      "Linear Regression Coefficients: [-1.50841535e-07  1.09964368e-01 -6.16723426e-03 -7.75763382e-03\n",
      "  7.09920435e-03 -6.57136846e-04 -1.97296280e-03 -6.81959840e-03\n",
      "  6.86512349e-03 -7.90611439e-03  1.86785605e-03 -5.07434698e-03\n",
      " -3.05413396e-03 -3.19286558e-04 -8.30854224e-04  4.46313604e-04\n",
      " -1.67985705e-04 -1.13808541e-04  5.38823850e-03 -4.20379641e-04\n",
      "  8.43669117e-05 -3.14005880e-05  7.66065632e-05  2.08319183e-04\n",
      " -2.15037659e-05  2.78852532e-06 -1.53030223e-06 -5.88090241e-06\n",
      " -8.76191821e-07 -2.80150097e-05  1.31617249e-05  2.97387249e-05\n",
      "  4.37573673e-05 -3.39921330e-05 -1.79375842e-04  1.41928579e-04\n",
      " -1.58004323e-05 -7.96425836e-05 -1.12534279e-03 -8.99878423e-04\n",
      " -6.07015267e-04  3.65932388e-03 -1.73827704e-03  2.58624601e-03\n",
      " -6.42923494e-04 -5.25633045e-04 -4.44229942e-04  3.75229025e-05\n",
      "  6.05738210e-05  2.42643583e-04 -1.25761799e-04  6.66612589e-05]\n",
      "Linear Regression Intercept: 1.0944800035677258\n"
     ]
    }
   ],
   "source": [
    "Pump_sensor_data = pd.read_csv(\"sensor.csv\")\n",
    "new_dm = DataModel(Pump_sensor_data, target_column=\"machine_status\")\n",
    "new_coefs, new_intercept = new_dm.linreg()\n",
    "print(\"Linear Regression Coefficients:\", new_coefs)\n",
    "print(\"Linear Regression Intercept:\", new_intercept)"
   ]
  },
  {
   "cell_type": "markdown",
   "id": "8f844af5",
   "metadata": {},
   "source": [
    "**a**"
   ]
  },
  {
   "cell_type": "markdown",
   "id": "67f12f48",
   "metadata": {},
   "source": [
    "Linear regression is about fitting a curve to a set of datapoints, there are different mathematical functions that allows us to do so, such as: the basic model y = ax+b, wich is a straight line. We also have mulitple linear regression: y=a1x1+a2x2...+b which allows for more coefficiants aswell as more than one variable to describe the data. Polynomial regression allows us to capture cruvature in the data, as the function fitted will be non-linear. The general formula for polynomial regression is: y = a0+a1x+a2x^2. If there are non-linear relationships between any of my pump-parameters a polynomial regression might better describe their relationship. "
   ]
  },
  {
   "cell_type": "code",
   "execution_count": 12,
   "id": "23cb97b1",
   "metadata": {},
   "outputs": [
    {
     "name": "stdout",
     "output_type": "stream",
     "text": [
      "LR validation MSE: 0.25022793865774157\n"
     ]
    },
    {
     "name": "stderr",
     "output_type": "stream",
     "text": [
      "c:\\Users\\joaki\\anaconda3\\Lib\\site-packages\\keras\\src\\layers\\core\\dense.py:92: UserWarning: Do not pass an `input_shape`/`input_dim` argument to a layer. When using Sequential models, prefer using an `Input(shape)` object as the first layer in the model instead.\n",
      "  super().__init__(activity_regularizer=activity_regularizer, **kwargs)\n"
     ]
    },
    {
     "name": "stdout",
     "output_type": "stream",
     "text": [
      "\u001b[1m94/94\u001b[0m \u001b[32m━━━━━━━━━━━━━━━━━━━━\u001b[0m\u001b[37m\u001b[0m \u001b[1m0s\u001b[0m 822us/step\n",
      "NN validation MSE: 0.5865607751422866\n"
     ]
    }
   ],
   "source": [
    "\n",
    "from sklearn.linear_model import LinearRegression\n",
    "\n",
    "dm = DataModel(df, target_column=\"Maintenance_Flag\")\n",
    "\n",
    "train_df, val_df, test_df = dm.split_data()\n",
    "\n",
    "dm_train = DataModel(train_df, target_column=dm.target_column)\n",
    "dm_val   = DataModel(val_df,target_column=dm.target_column)\n",
    "\n",
    "\n",
    "lr = LinearRegression()\n",
    "lr.fit(dm_train.X, dm_train.Y)\n",
    "val_pred_lr = lr.predict(dm_val.X)\n",
    "mse_val_lr  = dm.MSE(dm_val.Y, val_pred_lr)\n",
    "print(\"LR validation MSE:\", mse_val_lr)\n",
    "\n",
    "\n",
    "nn = dm.build_nn(input_dim=dm_train.X.shape[1], layers=[64, 32], activation=\"relu\", optimizer=\"adam\", loss=\"mse\", batch_size=32)\n",
    "hist = dm.nn_model.fit(dm_train.X, dm_train.Y, validation_data=(dm_val.X, dm_val.Y), epochs=20, batch_size=dm.batch_size, verbose=0)\n",
    "\n",
    "val_pred_nn = dm.nn_model.predict(dm_val.X).reshape(-1)\n",
    "mse_val_nn  = dm.MSE(dm_val.Y, val_pred_nn)\n",
    "print(\"NN validation MSE:\", mse_val_nn)\n",
    "\n"
   ]
  },
  {
   "cell_type": "markdown",
   "id": "9e1c88c2",
   "metadata": {},
   "source": [
    "The linear regression outperformed the neural network on this dataset, seen by the lower MSE value. I have seen a wide range of values for NN validation MSE, but it never went lower than for the linear regression of 0.25. \n"
   ]
  },
  {
   "cell_type": "markdown",
   "id": "2bca3c6e",
   "metadata": {},
   "source": [
    "**b**"
   ]
  },
  {
   "cell_type": "markdown",
   "id": "41db4b39",
   "metadata": {},
   "source": [
    "I dedicated 15% of my data as validation data, i used it to check how well the models performed on the unseen data, i can use the validation data to as the name implies validate if the model is actually accurately describing the data, by comparing the validation MSE i can se which model generalizes better."
   ]
  },
  {
   "cell_type": "markdown",
   "id": "95d20e76",
   "metadata": {},
   "source": [
    "**c**"
   ]
  },
  {
   "cell_type": "markdown",
   "id": "2836a8f5",
   "metadata": {},
   "source": [
    "If i were to train my models on the full data set rather than setting aside validation data and test data i might get a lower error, since the models have already seen all the data  points during training. This wouuld look good on paper, but then we would not know how good the models generalize to unseen data.\n",
    "\n",
    "By using a propper ML approach with a training valdiation split, i was able to measure how well the models perfrom on \"new\" data. If i were to not use this approach i might have concluded that NN was better in my case, or i might find an alternative regression function to be the best one."
   ]
  },
  {
   "cell_type": "markdown",
   "id": "fd5d0c07",
   "metadata": {},
   "source": [
    "**d**"
   ]
  },
  {
   "cell_type": "code",
   "execution_count": 14,
   "id": "33bebda0",
   "metadata": {},
   "outputs": [
    {
     "name": "stdout",
     "output_type": "stream",
     "text": [
      "k-means labels (0        2\n",
      "1        2\n",
      "2        2\n",
      "3        1\n",
      "4        1\n",
      "        ..\n",
      "19995    2\n",
      "19996    0\n",
      "19997    0\n",
      "19998    2\n",
      "19999    1\n",
      "Name: Cluster, Length: 20000, dtype: int32, array([[1.00098423e+02, 2.54754805e+00, 2.01093303e+02, 1.02488452e+01,\n",
      "        2.01316507e+03, 8.35343867e+03],\n",
      "       [1.00446815e+02, 2.52697052e+00, 2.00494031e+02, 1.03160790e+01,\n",
      "        1.99722997e+03, 1.72964361e+03],\n",
      "       [1.00567969e+02, 2.50907374e+00, 1.99557309e+02, 1.01788996e+01,\n",
      "        2.00652639e+03, 5.03616896e+03]]))\n",
      "gmm labels (array([[1.00331923e+02, 2.55239050e+00, 2.01149887e+02, 1.02614676e+01,\n",
      "        2.01327907e+03, 8.31996066e+03],\n",
      "       [1.00515825e+02, 2.52998951e+00, 2.00661697e+02, 1.03266045e+01,\n",
      "        1.99284635e+03, 1.77486573e+03],\n",
      "       [1.00270305e+02, 2.50277273e+00, 1.99392375e+02, 1.01605641e+01,\n",
      "        2.01062346e+03, 5.05158803e+03]]), 0        2\n",
      "1        2\n",
      "2        2\n",
      "3        1\n",
      "4        1\n",
      "        ..\n",
      "19995    2\n",
      "19996    0\n",
      "19997    0\n",
      "19998    2\n",
      "19999    1\n",
      "Name: GMM_Cluster, Length: 20000, dtype: int64)\n"
     ]
    }
   ],
   "source": [
    "kmeans_labels = dm.k_means(n_clusters=3)\n",
    "gmm_labels = dm.gmm(n_components=3)\n",
    "print(\"k-means labels\", kmeans_labels[:10])\n",
    "print(\"gmm labels\", gmm_labels[:10])"
   ]
  },
  {
   "cell_type": "markdown",
   "id": "6630505d",
   "metadata": {},
   "source": [
    "The K means algorithm divided the 20k sampels into three distinct groups based on similarity in the six input features. the cluster centers represents the average feature values within each group. The GMM produced a very similar grouping, as shown by comparable cluster means and labels, but unlike K-means it models the data probabilistically. This makes GMM assign points  on likleyhood rather than strict distance. "
   ]
  },
  {
   "cell_type": "markdown",
   "id": "94cbbfab",
   "metadata": {},
   "source": [
    "**e**"
   ]
  },
  {
   "cell_type": "markdown",
   "id": "dfefa82a",
   "metadata": {},
   "source": [
    "the Combinatioin of both supervised and unsupervised ML can be used to both boost model performance aswell as undestanding of the data\n",
    "\n",
    "We can for example use K-means or GMM to cluster the most similar data together and then apply linear regression or neural networking techniques. This can potentially highlight relationships between different clusters or show more complex patterns, which one might have missed."
   ]
  }
 ],
 "metadata": {
  "kernelspec": {
   "display_name": "base",
   "language": "python",
   "name": "python3"
  },
  "language_info": {
   "codemirror_mode": {
    "name": "ipython",
    "version": 3
   },
   "file_extension": ".py",
   "mimetype": "text/x-python",
   "name": "python",
   "nbconvert_exporter": "python",
   "pygments_lexer": "ipython3",
   "version": "3.13.5"
  }
 },
 "nbformat": 4,
 "nbformat_minor": 5
}
